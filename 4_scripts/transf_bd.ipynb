{
 "cells": [
  {
   "cell_type": "code",
   "execution_count": 1,
   "metadata": {},
   "outputs": [],
   "source": [
    "from sqlalchemy import create_engine\n",
    "import pandas as pd\n",
    " \n",
    "engine = create_engine('sqlite:///banco.db', echo=True)"
   ]
  },
  {
   "cell_type": "code",
   "execution_count": 2,
   "metadata": {},
   "outputs": [],
   "source": [
    "df =  pd.read_csv('../3_base_de_upload/df_tratada.csv')\n",
    "df.rename(columns={'Nome Municipio': 'Nome_Municipio'}, inplace=True)"
   ]
  },
  {
   "cell_type": "code",
   "execution_count": 3,
   "metadata": {},
   "outputs": [
    {
     "name": "stdout",
     "output_type": "stream",
     "text": [
      "2024-11-23 20:09:26,246 INFO sqlalchemy.engine.Engine BEGIN (implicit)\n",
      "2024-11-23 20:09:26,255 INFO sqlalchemy.engine.Engine PRAGMA main.table_info(\"dados\")\n",
      "2024-11-23 20:09:26,257 INFO sqlalchemy.engine.Engine [raw sql] ()\n",
      "2024-11-23 20:09:26,260 INFO sqlalchemy.engine.Engine PRAGMA main.table_info(\"dados\")\n",
      "2024-11-23 20:09:26,265 INFO sqlalchemy.engine.Engine [raw sql] ()\n",
      "2024-11-23 20:09:26,273 INFO sqlalchemy.engine.Engine SELECT name FROM sqlite_master WHERE type='table' AND name NOT LIKE 'sqlite~_%' ESCAPE '~' ORDER BY name\n",
      "2024-11-23 20:09:26,274 INFO sqlalchemy.engine.Engine [raw sql] ()\n",
      "2024-11-23 20:09:26,279 INFO sqlalchemy.engine.Engine SELECT name FROM sqlite_temp_master WHERE type='table' AND name NOT LIKE 'sqlite~_%' ESCAPE '~' ORDER BY name\n",
      "2024-11-23 20:09:26,281 INFO sqlalchemy.engine.Engine [raw sql] ()\n",
      "2024-11-23 20:09:26,283 INFO sqlalchemy.engine.Engine PRAGMA main.table_xinfo(\"dados\")\n",
      "2024-11-23 20:09:26,284 INFO sqlalchemy.engine.Engine [raw sql] ()\n",
      "2024-11-23 20:09:26,288 INFO sqlalchemy.engine.Engine SELECT sql FROM  (SELECT * FROM sqlite_master UNION ALL   SELECT * FROM sqlite_temp_master) WHERE name = ? AND type in ('table', 'view')\n",
      "2024-11-23 20:09:26,294 INFO sqlalchemy.engine.Engine [raw sql] ('dados',)\n",
      "2024-11-23 20:09:26,305 INFO sqlalchemy.engine.Engine PRAGMA main.foreign_key_list(\"dados\")\n",
      "2024-11-23 20:09:26,308 INFO sqlalchemy.engine.Engine [raw sql] ()\n",
      "2024-11-23 20:09:26,310 INFO sqlalchemy.engine.Engine PRAGMA temp.foreign_key_list(\"dados\")\n",
      "2024-11-23 20:09:26,311 INFO sqlalchemy.engine.Engine [raw sql] ()\n",
      "2024-11-23 20:09:26,314 INFO sqlalchemy.engine.Engine SELECT sql FROM  (SELECT * FROM sqlite_master UNION ALL   SELECT * FROM sqlite_temp_master) WHERE name = ? AND type in ('table', 'view')\n",
      "2024-11-23 20:09:26,316 INFO sqlalchemy.engine.Engine [raw sql] ('dados',)\n",
      "2024-11-23 20:09:26,319 INFO sqlalchemy.engine.Engine PRAGMA main.index_list(\"dados\")\n",
      "2024-11-23 20:09:26,321 INFO sqlalchemy.engine.Engine [raw sql] ()\n",
      "2024-11-23 20:09:26,323 INFO sqlalchemy.engine.Engine PRAGMA temp.index_list(\"dados\")\n",
      "2024-11-23 20:09:26,324 INFO sqlalchemy.engine.Engine [raw sql] ()\n",
      "2024-11-23 20:09:26,325 INFO sqlalchemy.engine.Engine PRAGMA main.table_info(\"dados\")\n",
      "2024-11-23 20:09:26,326 INFO sqlalchemy.engine.Engine [raw sql] ()\n",
      "2024-11-23 20:09:26,333 INFO sqlalchemy.engine.Engine PRAGMA main.index_list(\"dados\")\n",
      "2024-11-23 20:09:26,339 INFO sqlalchemy.engine.Engine [raw sql] ()\n",
      "2024-11-23 20:09:26,341 INFO sqlalchemy.engine.Engine PRAGMA temp.index_list(\"dados\")\n",
      "2024-11-23 20:09:26,342 INFO sqlalchemy.engine.Engine [raw sql] ()\n",
      "2024-11-23 20:09:26,345 INFO sqlalchemy.engine.Engine PRAGMA main.table_info(\"dados\")\n",
      "2024-11-23 20:09:26,349 INFO sqlalchemy.engine.Engine [raw sql] ()\n",
      "2024-11-23 20:09:26,351 INFO sqlalchemy.engine.Engine SELECT sql FROM  (SELECT * FROM sqlite_master UNION ALL   SELECT * FROM sqlite_temp_master) WHERE name = ? AND type in ('table', 'view')\n",
      "2024-11-23 20:09:26,352 INFO sqlalchemy.engine.Engine [raw sql] ('dados',)\n",
      "2024-11-23 20:09:26,357 INFO sqlalchemy.engine.Engine \n",
      "DROP TABLE dados\n",
      "2024-11-23 20:09:26,358 INFO sqlalchemy.engine.Engine [no key 0.00133s] ()\n",
      "2024-11-23 20:09:26,391 INFO sqlalchemy.engine.Engine \n",
      "CREATE TABLE dados (\n",
      "\t\"Municipio\" BIGINT, \n",
      "\t\"Nome_Municipio\" TEXT, \n",
      "\t\"Enq\" TEXT, \n",
      "\t\"Descricao\" TEXT, \n",
      "\tjaneiro BIGINT, \n",
      "\tfevereiro BIGINT, \n",
      "\tmarco BIGINT, \n",
      "\tabril BIGINT, \n",
      "\tmaio BIGINT, \n",
      "\tjunho BIGINT, \n",
      "\tjulho BIGINT, \n",
      "\tagosto BIGINT, \n",
      "\tsetembro BIGINT, \n",
      "\toutubro BIGINT, \n",
      "\tnovembro BIGINT, \n",
      "\tdezembro BIGINT, \n",
      "\t\"Total\" BIGINT\n",
      ")\n",
      "\n",
      "\n",
      "2024-11-23 20:09:26,392 INFO sqlalchemy.engine.Engine [no key 0.00147s] ()\n",
      "2024-11-23 20:09:26,951 INFO sqlalchemy.engine.Engine INSERT INTO dados (\"Municipio\", \"Nome_Municipio\", \"Enq\", \"Descricao\", janeiro, fevereiro, marco, abril, maio, junho, julho, agosto, setembro, outubro, novembro, dezembro, \"Total\") VALUES (?, ?, ?, ?, ?, ?, ?, ?, ?, ?, ?, ?, ?, ?, ?, ?, ?)\n",
      "2024-11-23 20:09:26,953 INFO sqlalchemy.engine.Engine [generated in 0.33526s] [(790, 'ARCO IRIS                     ', '5010-0', 'Dirigir veiculo sem possuir CNH/PPD/ACC', 1, 1, 3, 0, 3, 1, 1, 0, 1, 0, 0, 1, 12), (790, 'ARCO IRIS                     ', '5045-0', 'Dirigir veiculo com validade de CNH/PPD vencida ha mais de 30 dias', 0, 1, 0, 0, 0, 1, 0, 0, 0, 0, 0, 0, 2), (790, 'ARCO IRIS                     ', '5061-0', 'Entregar veiculo a pessoa sem CNH/PPD/ACC', 0, 0, 1, 0, 0, 0, 1, 0, 0, 0, 0, 0, 2), (790, 'ARCO IRIS                     ', '5118-0', 'Permitir posse/conducao do veiculo a pessoa sem CNH/PPD/ACC', 0, 0, 1, 0, 2, 1, 0, 0, 1, 0, 0, 1, 6), (790, 'ARCO IRIS                     ', '5193-0', 'Transportar crianca sem observancia das normas de seguranca estabelecidas p/ CTB', 0, 0, 0, 0, 1, 0, 0, 0, 0, 0, 1, 0, 2), (790, 'ARCO IRIS                     ', '5207-0', 'Dirigir sem atencao ou sem os cuidados indispensaveis a seguranca', 0, 0, 0, 0, 0, 0, 1, 0, 0, 0, 0, 0, 1), (790, 'ARCO IRIS                     ', '5843-3', 'Deixar de indicar c/ antec, med gesto de braco/luz indicadora, mudanca direcao', 0, 0, 0, 0, 0, 0, 0, 0, 0, 0, 1, 0, 1), (790, 'ARCO IRIS                     ', '6408-0', 'Portar no veiculo placas de identificacao em desacordo c/ especif/modelo Contran', 0, 0, 0, 0, 0, 0, 0, 0, 0, 0, 0, 1, 1)  ... displaying 10 of 31175 total bound parameter sets ...  (7273, 'VARGEM GRANDE PAULISTA        ', '7684-2', None, 0, 0, 0, 0, 0, 0, 0, 0, 0, 0, 0, 1, 1), (7273, 'VARGEM GRANDE PAULISTA        ', '7714-1', None, 0, 0, 0, 0, 0, 0, 0, 0, 0, 0, 0, 1, 1)]\n",
      "2024-11-23 20:09:27,208 INFO sqlalchemy.engine.Engine COMMIT\n"
     ]
    },
    {
     "data": {
      "text/plain": [
       "31175"
      ]
     },
     "execution_count": 3,
     "metadata": {},
     "output_type": "execute_result"
    }
   ],
   "source": [
    "df.to_sql('dados', con=engine, if_exists='replace', index=False)  "
   ]
  },
  {
   "cell_type": "code",
   "execution_count": 4,
   "metadata": {},
   "outputs": [
    {
     "name": "stdout",
     "output_type": "stream",
     "text": [
      "2024-11-23 20:09:27,258 INFO sqlalchemy.engine.Engine BEGIN (implicit)\n",
      "2024-11-23 20:09:27,259 INFO sqlalchemy.engine.Engine PRAGMA main.table_info(\"SELECT * FROM dados\")\n",
      "2024-11-23 20:09:27,260 INFO sqlalchemy.engine.Engine [raw sql] ()\n",
      "2024-11-23 20:09:27,263 INFO sqlalchemy.engine.Engine PRAGMA temp.table_info(\"SELECT * FROM dados\")\n",
      "2024-11-23 20:09:27,266 INFO sqlalchemy.engine.Engine [raw sql] ()\n",
      "2024-11-23 20:09:27,272 INFO sqlalchemy.engine.Engine SELECT * FROM dados\n",
      "2024-11-23 20:09:27,274 INFO sqlalchemy.engine.Engine [raw sql] ()\n",
      "2024-11-23 20:09:27,748 INFO sqlalchemy.engine.Engine ROLLBACK\n"
     ]
    }
   ],
   "source": [
    "df_lido = pd.read_sql('SELECT * FROM dados', con=engine)"
   ]
  }
 ],
 "metadata": {
  "kernelspec": {
   "display_name": "Python 3",
   "language": "python",
   "name": "python3"
  },
  "language_info": {
   "codemirror_mode": {
    "name": "ipython",
    "version": 3
   },
   "file_extension": ".py",
   "mimetype": "text/x-python",
   "name": "python",
   "nbconvert_exporter": "python",
   "pygments_lexer": "ipython3",
   "version": "3.11.9"
  }
 },
 "nbformat": 4,
 "nbformat_minor": 2
}
